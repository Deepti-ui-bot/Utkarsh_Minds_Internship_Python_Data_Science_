{
  "nbformat": 4,
  "nbformat_minor": 0,
  "metadata": {
    "colab": {
      "provenance": []
    },
    "kernelspec": {
      "name": "python3",
      "display_name": "Python 3"
    },
    "language_info": {
      "name": "python"
    }
  },
  "cells": [
    {
      "cell_type": "code",
      "execution_count": null,
      "metadata": {
        "id": "-3_Np-dGUk-d"
      },
      "outputs": [],
      "source": [
        "import pandas"
      ]
    },
    {
      "cell_type": "code",
      "source": [
        "student_data = pandas.read_csv('StudentStatistics.csv',sep=';')\n",
        "student_data"
      ],
      "metadata": {
        "id": "xV6FwtgnVDaj"
      },
      "execution_count": null,
      "outputs": []
    },
    {
      "cell_type": "code",
      "source": [
        "student_data['Gen_Gender']"
      ],
      "metadata": {
        "colab": {
          "base_uri": "https://localhost:8080/"
        },
        "id": "IutqGgJYWFSi",
        "outputId": "472f3893-7105-4854-ee58-06c73a56ef3c"
      },
      "execution_count": null,
      "outputs": [
        {
          "output_type": "execute_result",
          "data": {
            "text/plain": [
              "0     Female\n",
              "1       Male\n",
              "2       Male\n",
              "3     Female\n",
              "4       Male\n",
              "5       Male\n",
              "6     Female\n",
              "7     Female\n",
              "8       Male\n",
              "9       Male\n",
              "10      Male\n",
              "11      Male\n",
              "12      Male\n",
              "13      Male\n",
              "14    Female\n",
              "15      Male\n",
              "16       NaN\n",
              "17    Female\n",
              "18      Male\n",
              "19      Male\n",
              "20    Female\n",
              "21       NaN\n",
              "22    Female\n",
              "23      Male\n",
              "24      Male\n",
              "25      Male\n",
              "26      Male\n",
              "27      Male\n",
              "28      Male\n",
              "29      Male\n",
              "30    Female\n",
              "31       NaN\n",
              "32      Male\n",
              "33      Male\n",
              "34       NaN\n",
              "35      Male\n",
              "36      Male\n",
              "37      Male\n",
              "38      Male\n",
              "39      Male\n",
              "40       NaN\n",
              "41    Female\n",
              "42       NaN\n",
              "43      Male\n",
              "44      Male\n",
              "45      Male\n",
              "46      Male\n",
              "47      Male\n",
              "48       NaN\n",
              "49       NaN\n",
              "50      Male\n",
              "51      Male\n",
              "52    Female\n",
              "53    Female\n",
              "54       NaN\n",
              "Name: Gen_Gender, dtype: object"
            ]
          },
          "metadata": {},
          "execution_count": 3
        }
      ]
    },
    {
      "cell_type": "code",
      "source": [
        "student_data['Gen_Gender'].value_counts()"
      ],
      "metadata": {
        "colab": {
          "base_uri": "https://localhost:8080/"
        },
        "id": "4-Z3Wu0mWWB-",
        "outputId": "e7e73068-f58d-4339-ce8d-ee1a20156fc8"
      },
      "execution_count": null,
      "outputs": [
        {
          "output_type": "execute_result",
          "data": {
            "text/plain": [
              "Gen_Gender\n",
              "Male      34\n",
              "Female    12\n",
              "Name: count, dtype: int64"
            ]
          },
          "metadata": {},
          "execution_count": 5
        }
      ]
    },
    {
      "cell_type": "code",
      "source": [
        "'''\n",
        "Research question - is the number of male and female equal in organization?\n",
        "\n",
        "Sample - 46\n",
        "male - 34\n",
        "Female - 12\n",
        "Population?\n",
        "\n",
        "H0 - Null hypothesis - there is no difference in number of male and female in population\n",
        "H1 - Alternate hypothesis - there is a difference in number of male and female in population\n",
        "\n",
        "two-sided test - non-directional (equal or non equal)\n",
        "one-sided test - directional (greater or lesser)\n",
        "\n",
        "Goal :\n",
        "H0 - reject null hypothesis\n",
        "or\n",
        "no evidence to reject H0\n",
        "'''"
      ],
      "metadata": {
        "id": "xJAXAvGRZZ8T"
      },
      "execution_count": null,
      "outputs": []
    },
    {
      "cell_type": "code",
      "source": [
        "from scipy.stats import binom_test\n",
        "#x - count of any category\n",
        "#n - sample size\n",
        "#p - probability to belong anyone category\n",
        "binom_test(x=34, n=46, p=0.5)"
      ],
      "metadata": {
        "colab": {
          "base_uri": "https://localhost:8080/"
        },
        "id": "BXCsWsDPbUDQ",
        "outputId": "ec828417-deff-425a-cf50-eeaf32f8ae79"
      },
      "execution_count": null,
      "outputs": [
        {
          "output_type": "stream",
          "name": "stderr",
          "text": [
            "<ipython-input-6-13e0886b1407>:5: DeprecationWarning: 'binom_test' is deprecated in favour of 'binomtest' from version 1.7.0 and will be removed in Scipy 1.12.0.\n",
            "  binom_test(x=34, n=46, p=0.5)\n"
          ]
        },
        {
          "output_type": "execute_result",
          "data": {
            "text/plain": [
              "0.0016414913408482334"
            ]
          },
          "metadata": {},
          "execution_count": 6
        }
      ]
    },
    {
      "cell_type": "code",
      "source": [
        "# probability value\n",
        "# pvalue - tell us what is probability thata the data belongs to a balanced population\n",
        "# 0.0%  (when pvalue multiplied by 100)\n",
        "pvalue = 0.0016414913408482334\n",
        "'''\n",
        "pvalue < 0.05\n",
        "H0 rejected\n",
        "There is no difference in the number of male and female in the population(rejected)\n",
        "Our result is significant.......which means we can create an inference about our population\n",
        "'''"
      ],
      "metadata": {
        "id": "OjFiUt7CcrZu"
      },
      "execution_count": null,
      "outputs": []
    },
    {
      "cell_type": "code",
      "source": [
        "binom_test(x=23, n=46, p=0.5)"
      ],
      "metadata": {
        "colab": {
          "base_uri": "https://localhost:8080/"
        },
        "id": "cHhqIDOPjzEZ",
        "outputId": "7f986775-d010-43a2-e355-46dcf6d4ebdc"
      },
      "execution_count": null,
      "outputs": [
        {
          "output_type": "stream",
          "name": "stderr",
          "text": [
            "<ipython-input-7-b4469074466b>:1: DeprecationWarning: 'binom_test' is deprecated in favour of 'binomtest' from version 1.7.0 and will be removed in Scipy 1.12.0.\n",
            "  binom_test(x=23, n=46, p=0.5)\n"
          ]
        },
        {
          "output_type": "execute_result",
          "data": {
            "text/plain": [
              "1.0"
            ]
          },
          "metadata": {},
          "execution_count": 7
        }
      ]
    },
    {
      "cell_type": "code",
      "source": [
        "pvalue = 1.0 which is greater than 0.05, so no evidence to reject H0"
      ],
      "metadata": {
        "id": "BSLNDcjVj30D"
      },
      "execution_count": null,
      "outputs": []
    }
  ]
}