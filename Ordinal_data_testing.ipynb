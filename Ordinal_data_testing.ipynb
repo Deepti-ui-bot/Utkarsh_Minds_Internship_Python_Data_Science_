{
  "nbformat": 4,
  "nbformat_minor": 0,
  "metadata": {
    "colab": {
      "provenance": []
    },
    "kernelspec": {
      "name": "python3",
      "display_name": "Python 3"
    },
    "language_info": {
      "name": "python"
    }
  },
  "cells": [
    {
      "cell_type": "code",
      "execution_count": null,
      "metadata": {
        "colab": {
          "base_uri": "https://localhost:8080/",
          "height": 295
        },
        "id": "6Cx42vzljBSx",
        "outputId": "639f4afb-4dde-4c39-ba4a-fd1681493426"
      },
      "outputs": [
        {
          "output_type": "stream",
          "name": "stderr",
          "text": [
            "<ipython-input-1-0387f9cd6ad8>:3: DtypeWarning: Columns (11,115,123,187,274,284,287,288,290,291,292,397,585,595,628,632) have mixed types. Specify dtype option on import or set low_memory=False.\n",
            "  data = pandas.read_csv('GSS2012a.csv')\n"
          ]
        },
        {
          "output_type": "execute_result",
          "data": {
            "text/plain": [
              "accntsci\n",
              "Not too scientific       348\n",
              "Not scientific at all    307\n",
              "Pretty scientific        199\n",
              "Very scientific          100\n",
              "Name: count, dtype: int64"
            ],
            "text/html": [
              "<div>\n",
              "<style scoped>\n",
              "    .dataframe tbody tr th:only-of-type {\n",
              "        vertical-align: middle;\n",
              "    }\n",
              "\n",
              "    .dataframe tbody tr th {\n",
              "        vertical-align: top;\n",
              "    }\n",
              "\n",
              "    .dataframe thead th {\n",
              "        text-align: right;\n",
              "    }\n",
              "</style>\n",
              "<table border=\"1\" class=\"dataframe\">\n",
              "  <thead>\n",
              "    <tr style=\"text-align: right;\">\n",
              "      <th></th>\n",
              "      <th>count</th>\n",
              "    </tr>\n",
              "    <tr>\n",
              "      <th>accntsci</th>\n",
              "      <th></th>\n",
              "    </tr>\n",
              "  </thead>\n",
              "  <tbody>\n",
              "    <tr>\n",
              "      <th>Not too scientific</th>\n",
              "      <td>348</td>\n",
              "    </tr>\n",
              "    <tr>\n",
              "      <th>Not scientific at all</th>\n",
              "      <td>307</td>\n",
              "    </tr>\n",
              "    <tr>\n",
              "      <th>Pretty scientific</th>\n",
              "      <td>199</td>\n",
              "    </tr>\n",
              "    <tr>\n",
              "      <th>Very scientific</th>\n",
              "      <td>100</td>\n",
              "    </tr>\n",
              "  </tbody>\n",
              "</table>\n",
              "</div><br><label><b>dtype:</b> int64</label>"
            ]
          },
          "metadata": {},
          "execution_count": 1
        }
      ],
      "source": [
        "import pandas\n",
        "\n",
        "data = pandas.read_csv('GSS2012a.csv')\n",
        "\n",
        "ordinal_data = data['accntsci']\n",
        "\n",
        "ordinal_data.value_counts()"
      ]
    },
    {
      "cell_type": "code",
      "source": [
        "ordinal_data.value_counts().index"
      ],
      "metadata": {
        "id": "AJDHlws_L253",
        "colab": {
          "base_uri": "https://localhost:8080/"
        },
        "outputId": "f7791800-9109-42ad-d1a7-c8bbb3c2da63"
      },
      "execution_count": null,
      "outputs": [
        {
          "output_type": "execute_result",
          "data": {
            "text/plain": [
              "Index(['Not too scientific', 'Not scientific at all', 'Pretty scientific',\n",
              "       'Very scientific'],\n",
              "      dtype='object', name='accntsci')"
            ]
          },
          "metadata": {},
          "execution_count": 2
        }
      ]
    },
    {
      "cell_type": "code",
      "source": [
        "'''\n",
        "Not scientific at all     0\n",
        "Not too scientific        1\n",
        "Pretty scientific         2\n",
        "Very scientific           3\n",
        "'''\n",
        "ordinal_data = ordinal_data.replace({'Not scientific at all':0,\n",
        "                                      'Not too scientific':1,\n",
        "                                      'Pretty scientific':2,\n",
        "                                      'Very scientific':3})"
      ],
      "metadata": {
        "id": "GT3npmoeGAvW"
      },
      "execution_count": null,
      "outputs": []
    },
    {
      "cell_type": "code",
      "source": [
        "#Research Q - the median value of data is equal to X ( hypothetical median)\n",
        "\n",
        "#h0 - the median value of the population data is not different from X ( hypothetical median)\n",
        "#ha - the median value of the population data is different from X ( hypothetical median)\n",
        "\n",
        "# if pvalue < 0.05\n",
        "#h0 rejected\n",
        "#effect size ? - negligible, small, medium, large"
      ],
      "metadata": {
        "id": "ARvwWd7fJhBZ"
      },
      "execution_count": null,
      "outputs": []
    },
    {
      "cell_type": "code",
      "source": [
        "from scipy.stats import wilcoxon\n",
        "X = 2.5\n",
        "ordinal_data = ordinal_data.dropna()\n",
        "wilcoxon(ordinal_data-2.5, zero_method = 'wilcox')"
      ],
      "metadata": {
        "colab": {
          "base_uri": "https://localhost:8080/"
        },
        "id": "J4FDQNnpKsB7",
        "outputId": "910bfee9-96d8-4ecd-d2e0-935946e34a1d"
      },
      "execution_count": null,
      "outputs": [
        {
          "output_type": "execute_result",
          "data": {
            "text/plain": [
              "WilcoxonResult(statistic=15000.0, pvalue=8.376600483105338e-142)"
            ]
          },
          "metadata": {},
          "execution_count": 7
        }
      ]
    },
    {
      "cell_type": "code",
      "source": [
        "#pvalue=8.376600483105338e-142\n",
        "#pvlaue is very very less than 0.05"
      ],
      "metadata": {
        "id": "_rgcoWFPMZow"
      },
      "execution_count": null,
      "outputs": []
    },
    {
      "cell_type": "code",
      "source": [
        "#median of the population does not find accounting as scientific"
      ],
      "metadata": {
        "id": "lug2KQe1NLBi"
      },
      "execution_count": null,
      "outputs": []
    },
    {
      "cell_type": "code",
      "source": [
        "n=len(ordinal_data)\n",
        "n"
      ],
      "metadata": {
        "id": "FWd5-q0ISuNk",
        "outputId": "58ea1d1e-660b-4bbf-8e2f-8db6d592744f",
        "colab": {
          "base_uri": "https://localhost:8080/"
        }
      },
      "execution_count": null,
      "outputs": [
        {
          "output_type": "execute_result",
          "data": {
            "text/plain": [
              "954"
            ]
          },
          "metadata": {},
          "execution_count": 9
        }
      ]
    }
  ]
}