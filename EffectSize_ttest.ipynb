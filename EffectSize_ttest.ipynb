{
  "nbformat": 4,
  "nbformat_minor": 0,
  "metadata": {
    "colab": {
      "provenance": []
    },
    "kernelspec": {
      "name": "python3",
      "display_name": "Python 3"
    },
    "language_info": {
      "name": "python"
    }
  },
  "cells": [
    {
      "cell_type": "code",
      "execution_count": null,
      "metadata": {
        "colab": {
          "base_uri": "https://localhost:8080/"
        },
        "id": "U3jUnx0yUnyu",
        "outputId": "50b31bb4-6a87-4a7e-b3ab-205778dcdf1b"
      },
      "outputs": [
        {
          "output_type": "stream",
          "name": "stdout",
          "text": [
            "large\n"
          ]
        },
        {
          "output_type": "stream",
          "name": "stderr",
          "text": [
            "<ipython-input-3-de1a1a1d3bc5>:3: DtypeWarning: Columns (11,115,123,187,274,284,287,288,290,291,292,397,585,595,628,632) have mixed types. Specify dtype option on import or set low_memory=False.\n",
            "  data = pandas.read_csv('GSS2012a.csv')\n"
          ]
        }
      ],
      "source": [
        "import pandas\n",
        "\n",
        "data = pandas.read_csv('GSS2012a.csv')\n",
        "\n",
        "scalevar = data['age'].dropna()\n",
        "\n",
        "scalevar = scalevar.replace({'89 OR OLDER': 90})\n",
        "\n",
        "scalevar = pandas.to_numeric(scalevar)\n",
        "\n",
        "#mean\n",
        "m = scalevar.mean()\n",
        "\n",
        "sd = scalevar.std()\n",
        "\n",
        "#effect size\n",
        "#ha - the mean of the population is different from the hypothetical mean\n",
        "\n",
        "mean_pop = 80\n",
        "temp = (m - mean_pop) / sd\n",
        "cohen_d = abs(temp *2**0.5)\n",
        "\n",
        "if cohen_d < 0.2:\n",
        "  print('negligible')\n",
        "elif cohen_d < 0.5:\n",
        "  print('small')\n",
        "elif cohen_d < 0.8:\n",
        "  print('medium')\n",
        "else:\n",
        "  print('large')"
      ]
    },
    {
      "cell_type": "markdown",
      "source": [
        "scale variables means variable which contains numeric value\n",
        "calculate effect size if and only if pvalue is less than 0.05"
      ],
      "metadata": {
        "id": "OvGpOnuzVWq2"
      }
    }
  ]
}