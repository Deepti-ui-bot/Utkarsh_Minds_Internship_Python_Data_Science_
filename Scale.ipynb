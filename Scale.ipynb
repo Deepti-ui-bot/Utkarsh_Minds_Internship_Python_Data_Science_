{
  "nbformat": 4,
  "nbformat_minor": 0,
  "metadata": {
    "colab": {
      "provenance": []
    },
    "kernelspec": {
      "name": "python3",
      "display_name": "Python 3"
    },
    "language_info": {
      "name": "python"
    }
  },
  "cells": [
    {
      "cell_type": "code",
      "execution_count": null,
      "metadata": {
        "colab": {
          "base_uri": "https://localhost:8080/"
        },
        "id": "TIG3Nd3xMNa9",
        "outputId": "7a7583b9-93ce-4948-c889-848bc42bf3b3"
      },
      "outputs": [
        {
          "output_type": "stream",
          "name": "stderr",
          "text": [
            "<ipython-input-1-b57018a53816>:3: DtypeWarning: Columns (11,115,123,187,274,284,287,288,290,291,292,397,585,595,628,632) have mixed types. Specify dtype option on import or set low_memory=False.\n",
            "  data = pandas.read_csv('GSS2012a.csv')\n"
          ]
        }
      ],
      "source": [
        "import pandas\n",
        "\n",
        "data = pandas.read_csv('GSS2012a.csv')\n",
        "\n",
        "scalevar = data['age'].dropna()\n",
        "\n",
        "scalevar = scalevar.replace({'89 OR OLDER':90})"
      ]
    },
    {
      "cell_type": "code",
      "source": [
        "from scipy.stats import ttest_1samp\n",
        "\n",
        "'''\n",
        "RQ - the average age of the population is 45\n",
        "\n",
        "h0 - the average age is not different from 45\n",
        "ha - the average age is different from 45\n",
        "\n",
        "pvalue < 0.05\n",
        "h0 is rejected\n",
        "\n",
        "the average age is different from 45\n",
        "but we don't know how much is the difference so we need to use effect size\n",
        "\n",
        "effect size - cohen d -----> next video\n",
        "\n",
        "'''\n",
        "\n",
        "scalevar = pandas.to_numeric(scalevar)\n",
        "\n",
        "ttest_1samp(scalevar, popmean = 45)"
      ],
      "metadata": {
        "colab": {
          "base_uri": "https://localhost:8080/"
        },
        "id": "dyvrqikgOnOZ",
        "outputId": "0c3a4f5f-8ebe-43bb-a063-29acb2b317b3"
      },
      "execution_count": null,
      "outputs": [
        {
          "output_type": "execute_result",
          "data": {
            "text/plain": [
              "TtestResult(statistic=8.022891023250635, pvalue=1.7566438579204372e-15, df=1968)"
            ]
          },
          "metadata": {},
          "execution_count": 3
        }
      ]
    },
    {
      "cell_type": "markdown",
      "source": [
        "here pvalue is even less than 0.05,\n",
        "so H0 is rejected."
      ],
      "metadata": {
        "id": "XfGwCJ4xRi0j"
      }
    },
    {
      "cell_type": "code",
      "source": [
        "'''\n",
        "say if pvalue = 0.011870 ~ 0.01 ~ 1%\n",
        "false_positive_percent = 1%\n",
        "'''"
      ],
      "metadata": {
        "id": "Ie_gLr6dQzq8"
      },
      "execution_count": null,
      "outputs": []
    },
    {
      "cell_type": "markdown",
      "source": [
        "for popmean = 43"
      ],
      "metadata": {
        "id": "hv0Nga0bU1ij"
      }
    },
    {
      "cell_type": "code",
      "source": [
        "ttest_1samp(scalevar, popmean = 43)"
      ],
      "metadata": {
        "colab": {
          "base_uri": "https://localhost:8080/"
        },
        "id": "hJ5bEDmIRz5I",
        "outputId": "cf8c39a2-6a01-453b-aa11-e058ef6cf630"
      },
      "execution_count": null,
      "outputs": [
        {
          "output_type": "execute_result",
          "data": {
            "text/plain": [
              "TtestResult(statistic=13.035447718405479, pvalue=2.574851638823114e-37, df=1968)"
            ]
          },
          "metadata": {},
          "execution_count": 4
        }
      ]
    }
  ]
}