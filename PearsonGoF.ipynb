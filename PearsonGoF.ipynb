{
  "nbformat": 4,
  "nbformat_minor": 0,
  "metadata": {
    "colab": {
      "provenance": []
    },
    "kernelspec": {
      "name": "python3",
      "display_name": "Python 3"
    },
    "language_info": {
      "name": "python"
    }
  },
  "cells": [
    {
      "cell_type": "code",
      "execution_count": null,
      "metadata": {
        "id": "1Z_90fAxD7ms"
      },
      "outputs": [],
      "source": [
        "'''\n",
        "Research question - Is there a preference for Location in the population\n",
        "H0 - null there is no preference fro location (the proportion of categories are not different)\n",
        "Ha - alternate - the proportion of categories are different\n",
        "\n",
        "pvalue <= 0.05 (H0 is rejected)\n",
        "\n",
        "Effect size\n",
        "'''"
      ]
    },
    {
      "cell_type": "code",
      "source": [
        "import pandas\n",
        "student_data = pandas.read_csv('StudentStatistics.csv', sep = ';')\n",
        "student_data"
      ],
      "metadata": {
        "id": "aJacJ19zGpAh"
      },
      "execution_count": null,
      "outputs": []
    },
    {
      "cell_type": "code",
      "source": [
        "student_data['Location'].value_counts()"
      ],
      "metadata": {
        "colab": {
          "base_uri": "https://localhost:8080/"
        },
        "id": "jnndlbquHs8h",
        "outputId": "a67b325e-6167-4445-df3f-bf52fb8896de"
      },
      "execution_count": null,
      "outputs": [
        {
          "output_type": "execute_result",
          "data": {
            "text/plain": [
              "Location\n",
              "Haarlem      22\n",
              "Diemen       17\n",
              "Rotterdam    16\n",
              "Name: count, dtype: int64"
            ]
          },
          "metadata": {},
          "execution_count": 2
        }
      ]
    },
    {
      "cell_type": "code",
      "source": [
        "from scipy.stats import chisquare\n",
        "chisquare(student_data['Location'].value_counts())"
      ],
      "metadata": {
        "colab": {
          "base_uri": "https://localhost:8080/"
        },
        "id": "x4o-h8sdIefn",
        "outputId": "b2a86402-d129-456f-d440-fffa546b2333"
      },
      "execution_count": null,
      "outputs": [
        {
          "output_type": "execute_result",
          "data": {
            "text/plain": [
              "Power_divergenceResult(statistic=1.1272727272727274, pvalue=0.5691357119956006)"
            ]
          },
          "metadata": {},
          "execution_count": 3
        }
      ]
    },
    {
      "cell_type": "code",
      "source": [
        "pvalue=0.5691357119956006\n",
        "\n",
        "'''\n",
        "H0 cannot be rejected.\n",
        "\n",
        "'''"
      ],
      "metadata": {
        "id": "SeLghWaCIx6G"
      },
      "execution_count": null,
      "outputs": []
    },
    {
      "cell_type": "markdown",
      "source": [
        "Suppose we had pvalue less than 0.05 then\n",
        "1.   Null hypothesis H0 is rejected\n",
        "2.   Result is significant\n",
        "3.   All the categories are not equal, there is a preference for a particular category in our data\n",
        "\n"
      ],
      "metadata": {
        "id": "-ZR9tMlJI_5o"
      }
    }
  ]
}